{
 "cells": [
  {
   "cell_type": "code",
   "execution_count": null,
   "metadata": {},
   "outputs": [],
   "source": [
    "# import libraries\n",
    "import csv\n",
    "from pathlib import Path"
   ]
  },
  {
   "cell_type": "code",
   "execution_count": null,
   "metadata": {},
   "outputs": [],
   "source": [
    "# Set file paths for menu_data.csv and sales.data.csv\n",
    "menu_filepath = Path('../PyRamen/menu_data.csv')\n",
    "sales_filepath = Path('../PyRamen/sales_data.csv')"
   ]
  },
  {
   "cell_type": "code",
   "execution_count": null,
   "metadata": {},
   "outputs": [],
   "source": [
    "# Intialize list object to hold our menu and sales data\n",
    "menu = []\n",
    "sales = []"
   ]
  },
  {
   "cell_type": "markdown",
   "metadata": {},
   "source": [
    "## Read the Data"
   ]
  },
  {
   "cell_type": "code",
   "execution_count": 4,
   "metadata": {},
   "outputs": [],
   "source": [
    "# Read in the menu data into the menu list\n",
    "with open(menu_filepath, 'r') as csvfile:\n",
    "    csvreader = csv.reader(csvfile, delimiter=',') \n",
    "    csv_header = next(csvreader)\n",
    "    \n",
    "     #Iterate through each row of data after the header & first row \n",
    "    for row in csvreader:\n",
    "        menu.append(row)# Append row to menu list\n",
    "        \n",
    "# Read in the sales data into the sales list\n",
    "with open(sales_filepath, 'r') as csvfile:\n",
    "    \n",
    "    csvreader = csv.reader(csvfile, delimiter=',') \n",
    "    csv_header = next(csvreader)\n",
    "    \n",
    "     #Iterate through each row of data after the header & first row \n",
    "    for row in csvreader:\n",
    "        \n",
    "        # Append row to sales list\n",
    "        sales.append(row)"
   ]
  },
  {
   "cell_type": "markdown",
   "metadata": {},
   "source": [
    "## Manipulate the data"
   ]
  },
  {
   "cell_type": "code",
   "execution_count": 6,
   "metadata": {},
   "outputs": [],
   "source": [
    "# Initialize dict object to hold our key-value pairs of items and metrics\n",
    "report = {}\n",
    " \n",
    "# Initialize a row counter variable\n",
    "row_count = 0\n",
    "\n",
    "# Loop over every row in the sales list object \n",
    "for sales_row in sales:\n",
    "    \n",
    "    sales_item = sales_row[4]\n",
    "    quantity = sales_row[3]\n",
    "    \n",
    "   # If the item value not in the report, add it as a new entry with initialized metrics\n",
    "   # Naming convention allows the keys to be ordered in logical fashion, count, revenue, cost, profit\n",
    "    \n",
    "    if sales_item not in report:\n",
    "        report[sales_item] = {\"01-count\": 0, '02-revenue': 0, '03-cogs': 0, '04-profit': 0 }\n",
    "    else:\n",
    "        continue\n",
    "        \n",
    "#additional quantities from sales to report\n",
    "for sales_row in sales:\n",
    "    \n",
    "    sales_item = sales_row[4]\n",
    "    quantity = sales_row[3]\n",
    "    \n",
    "    if sales_item in report:\n",
    "        report[sales_item]['01-count'] += int(quantity)\n",
    "\n",
    "#additional price and cost from menu and calculate revenue and cogs\n",
    "for sales_row in sales:\n",
    "    \n",
    "    sales_item = sales_row[4]\n",
    "    quantity = sales_row[3]\n",
    "    \n",
    "    for menu_row in menu:\n",
    "        menu_item = menu_row[0]\n",
    "        menu_price = menu_row[3]\n",
    "        menu_cost = menu_row[4]\n",
    "        \n",
    "        if sales_item == menu_item:\n",
    "            report[menu_item]['02-revenue'] += (int(menu_price) * int(quantity))\n",
    "            report[menu_item]['03-cogs'] += (int(menu_cost) * int(quantity))\n",
    "        elif sales_item != menu_item:\n",
    "            continue\n",
    "            \n",
    "# calculate profit using revenue and cogs\n",
    "for item, valuedict in report.items():\n",
    "    \n",
    "    for key in valuedict:\n",
    "        \n",
    "        cogs = report[item]['03-cogs']\n",
    "        revenue = report[item]['02-revenue']\n",
    "        \n",
    "        if key == '04-profit':\n",
    "            report[item][key] = revenue - cogs\n",
    "        else:\n",
    "            continue\n",
    "\n",
    "# output file with metrics\n",
    "output_path = Path(\"PyRamen.txt\")\n",
    "\n",
    "with open(output_path, 'w') as file:\n",
    "    file.write(\"This is the financial report for PyRamen.\\n\")\n",
    "    for key in report:\n",
    "        file.write(f\"{key} {report[key]} \\n\")\n",
    "            "
   ]
  },
  {
   "cell_type": "code",
   "execution_count": null,
   "metadata": {},
   "outputs": [],
   "source": []
  }
 ],
 "metadata": {
  "kernelspec": {
   "display_name": "Python 3",
   "language": "python",
   "name": "python3"
  },
  "language_info": {
   "codemirror_mode": {
    "name": "ipython",
    "version": 3
   },
   "file_extension": ".py",
   "mimetype": "text/x-python",
   "name": "python",
   "nbconvert_exporter": "python",
   "pygments_lexer": "ipython3",
   "version": "3.7.4"
  }
 },
 "nbformat": 4,
 "nbformat_minor": 4
}
