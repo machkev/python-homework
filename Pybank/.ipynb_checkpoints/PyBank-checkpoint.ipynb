{
 "cells": [
  {
   "cell_type": "code",
   "execution_count": 5,
   "metadata": {},
   "outputs": [
    {
     "name": "stdout",
     "output_type": "stream",
     "text": [
      "Financial Analysis\n",
      "---------------------\n",
      "Total Months: 86\n",
      "Total: $38382578\n",
      "Average Change: $-2315.12\n",
      "Greatest Increase in Profits: Feb-2012 ($1926159)\n",
      "Greatest Decrease in Profits: Sep-2013 ($-2196167)\n"
     ]
    }
   ],
   "source": [
    "#Importing the necessary modules/libraries\n",
    "from pathlib import Path\n",
    "import csv\n",
    "\n",
    "#Set the file path\n",
    "csvpath = Path('../Pybank/budget_data.csv')\n",
    "\n",
    "total_months = 0\n",
    "total_pnl = 0\n",
    "month_pnl_value = 0\n",
    "month_pnl_change = 0\n",
    "dates = []\n",
    "profits = []\n",
    "\n",
    "# Open the csv file as an object\n",
    "with open(csvpath, 'r') as csvfile:\n",
    "    csvreader = csv.reader(csvfile, delimiter=',') # Pass in the csv file to the csv.reader() function and return the csvreader object\n",
    "    csv_header = next(csvreader)  # Read the header row first\n",
    "\n",
    "    #Reading the first row (so that we track the changes properly)\n",
    "    first_row = next(csvreader)\n",
    "    total_months += 1\n",
    "    total_pnl += int(first_row[1])\n",
    "    month_pnl_value = int(first_row[1])\n",
    "    \n",
    "    #Iterate through each row of data after the header & first row \n",
    "    for row in csvreader:\n",
    "        \n",
    "        # Keeping track of the dates\n",
    "        dates.append(row[0])\n",
    "        \n",
    "        # Calculate the pnl change, then add it to list of changes\n",
    "        month_pnl_change = int(row[1])- month_pnl_value\n",
    "        profits.append(month_pnl_change)\n",
    "        month_pnl_value = int(row[1])\n",
    "        \n",
    "        #Total number of months\n",
    "        total_months += 1\n",
    "\n",
    "        #Total net amount of \"Profit/Losses over entire period\"\n",
    "        total_pnl = total_pnl + int(row[1])\n",
    "\n",
    "    #Greatest increase in profits (date and amount) over the entire period\n",
    "    greatest_increase = max(profits)\n",
    "    greatest_index = profits.index(greatest_increase)\n",
    "    greatest_date = dates[greatest_index]\n",
    "\n",
    "    #Greatest decrease in losses (date and amount) over the entire period\n",
    "    greatest_decrease = min(profits)\n",
    "    worst_index = profits.index(greatest_decrease)\n",
    "    worst_date = dates[worst_index]\n",
    "\n",
    "    #Average change in \"Profit/Losses between months over entire period\"\n",
    "    avg_change = sum(profits)/len(profits)\n",
    "    \n",
    "\n",
    "#Print Analysis to terminal\n",
    "print(\"Financial Analysis\")\n",
    "print(\"---------------------\")\n",
    "print(f\"Total Months: {str(total_months)}\")\n",
    "print(f\"Total: ${str(total_pnl)}\")\n",
    "print(f\"Average Change: ${str(round(avg_change,2))}\")\n",
    "print(f\"Greatest Increase in Profits: {greatest_date} (${str(greatest_increase)})\")\n",
    "print(f\"Greatest Decrease in Profits: {worst_date} (${str(greatest_decrease)})\")"
   ]
  },
  {
   "cell_type": "code",
   "execution_count": 9,
   "metadata": {},
   "outputs": [],
   "source": [
    "# Export a text file with the results.\n",
    "\n",
    "output = (\n",
    "    f\"Total Months: {total_months}\\n\"\n",
    "    f\"Total : {total_pnl}\\n\"\n",
    "    f\"Average Change: ${str(round(avg_change,2))}\\n\"\n",
    "    f\"Greatest increase in Profits: {greatest_date} ${greatest_increase}\\n\"\n",
    "    f\"Greatest decrease in Profits: {worst_date} ${greatest_decrease}\\n\"\n",
    ")\n",
    "\n",
    "#Write to the text path\n",
    "with open(csvpath, \"w\") as txt_file:\n",
    "    txt_file.write(output)"
   ]
  },
  {
   "cell_type": "code",
   "execution_count": null,
   "metadata": {},
   "outputs": [],
   "source": []
  }
 ],
 "metadata": {
  "kernelspec": {
   "display_name": "Python 3",
   "language": "python",
   "name": "python3"
  },
  "language_info": {
   "codemirror_mode": {
    "name": "ipython",
    "version": 3
   },
   "file_extension": ".py",
   "mimetype": "text/x-python",
   "name": "python",
   "nbconvert_exporter": "python",
   "pygments_lexer": "ipython3",
   "version": "3.7.4"
  }
 },
 "nbformat": 4,
 "nbformat_minor": 4
}
